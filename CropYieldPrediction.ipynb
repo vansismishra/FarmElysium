{
 "cells": [
  {
   "cell_type": "code",
   "execution_count": 1,
   "metadata": {},
   "outputs": [],
   "source": [
    "import pandas as pd \n",
    "import numpy as np \n",
    "import matplotlib.pyplot as plt \n",
    "import seaborn as sns \n",
    "%matplotlib inline"
   ]
  },
  {
   "cell_type": "code",
   "execution_count": 2,
   "metadata": {},
   "outputs": [],
   "source": [
    "df_produ = pd.read_csv(\"Crop Production.csv\")\n",
    "df_soil = pd.read_csv(\"Soil Type.csv\")\n",
    "df_rain = pd.read_csv(\"Rainfall.csv\")"
   ]
  },
  {
   "cell_type": "code",
   "execution_count": 3,
   "metadata": {},
   "outputs": [
    {
     "data": {
      "text/html": [
       "<div>\n",
       "<style scoped>\n",
       "    .dataframe tbody tr th:only-of-type {\n",
       "        vertical-align: middle;\n",
       "    }\n",
       "\n",
       "    .dataframe tbody tr th {\n",
       "        vertical-align: top;\n",
       "    }\n",
       "\n",
       "    .dataframe thead th {\n",
       "        text-align: right;\n",
       "    }\n",
       "</style>\n",
       "<table border=\"1\" class=\"dataframe\">\n",
       "  <thead>\n",
       "    <tr style=\"text-align: right;\">\n",
       "      <th></th>\n",
       "      <th>State_Name</th>\n",
       "      <th>District_Name</th>\n",
       "      <th>Crop_Year</th>\n",
       "      <th>Season</th>\n",
       "      <th>Crop</th>\n",
       "      <th>Area</th>\n",
       "      <th>Production</th>\n",
       "    </tr>\n",
       "  </thead>\n",
       "  <tbody>\n",
       "    <tr>\n",
       "      <th>0</th>\n",
       "      <td>Andaman and Nicobar Islands</td>\n",
       "      <td>NICOBARS</td>\n",
       "      <td>2000</td>\n",
       "      <td>Kharif</td>\n",
       "      <td>Arecanut</td>\n",
       "      <td>1254.0</td>\n",
       "      <td>2000.0</td>\n",
       "    </tr>\n",
       "    <tr>\n",
       "      <th>1</th>\n",
       "      <td>Andaman and Nicobar Islands</td>\n",
       "      <td>NICOBARS</td>\n",
       "      <td>2000</td>\n",
       "      <td>Kharif</td>\n",
       "      <td>Other Kharif pulses</td>\n",
       "      <td>2.0</td>\n",
       "      <td>1.0</td>\n",
       "    </tr>\n",
       "    <tr>\n",
       "      <th>2</th>\n",
       "      <td>Andaman and Nicobar Islands</td>\n",
       "      <td>NICOBARS</td>\n",
       "      <td>2000</td>\n",
       "      <td>Kharif</td>\n",
       "      <td>Rice</td>\n",
       "      <td>102.0</td>\n",
       "      <td>321.0</td>\n",
       "    </tr>\n",
       "    <tr>\n",
       "      <th>3</th>\n",
       "      <td>Andaman and Nicobar Islands</td>\n",
       "      <td>NICOBARS</td>\n",
       "      <td>2000</td>\n",
       "      <td>Whole Year</td>\n",
       "      <td>Banana</td>\n",
       "      <td>176.0</td>\n",
       "      <td>641.0</td>\n",
       "    </tr>\n",
       "    <tr>\n",
       "      <th>4</th>\n",
       "      <td>Andaman and Nicobar Islands</td>\n",
       "      <td>NICOBARS</td>\n",
       "      <td>2000</td>\n",
       "      <td>Whole Year</td>\n",
       "      <td>Cashewnut</td>\n",
       "      <td>720.0</td>\n",
       "      <td>165.0</td>\n",
       "    </tr>\n",
       "  </tbody>\n",
       "</table>\n",
       "</div>"
      ],
      "text/plain": [
       "                    State_Name District_Name  Crop_Year       Season  \\\n",
       "0  Andaman and Nicobar Islands      NICOBARS       2000  Kharif        \n",
       "1  Andaman and Nicobar Islands      NICOBARS       2000  Kharif        \n",
       "2  Andaman and Nicobar Islands      NICOBARS       2000  Kharif        \n",
       "3  Andaman and Nicobar Islands      NICOBARS       2000  Whole Year    \n",
       "4  Andaman and Nicobar Islands      NICOBARS       2000  Whole Year    \n",
       "\n",
       "                  Crop    Area  Production  \n",
       "0             Arecanut  1254.0      2000.0  \n",
       "1  Other Kharif pulses     2.0         1.0  \n",
       "2                 Rice   102.0       321.0  \n",
       "3               Banana   176.0       641.0  \n",
       "4            Cashewnut   720.0       165.0  "
      ]
     },
     "execution_count": 3,
     "metadata": {},
     "output_type": "execute_result"
    }
   ],
   "source": [
    "df_produ.head()"
   ]
  },
  {
   "cell_type": "code",
   "execution_count": 4,
   "metadata": {},
   "outputs": [],
   "source": [
    "df_produ.rename(columns={'State_Name': 'State', 'District_Name': 'District', 'Crop_Year':'Year'}, inplace=True)"
   ]
  },
  {
   "cell_type": "code",
   "execution_count": 5,
   "metadata": {},
   "outputs": [
    {
     "data": {
      "text/html": [
       "<div>\n",
       "<style scoped>\n",
       "    .dataframe tbody tr th:only-of-type {\n",
       "        vertical-align: middle;\n",
       "    }\n",
       "\n",
       "    .dataframe tbody tr th {\n",
       "        vertical-align: top;\n",
       "    }\n",
       "\n",
       "    .dataframe thead th {\n",
       "        text-align: right;\n",
       "    }\n",
       "</style>\n",
       "<table border=\"1\" class=\"dataframe\">\n",
       "  <thead>\n",
       "    <tr style=\"text-align: right;\">\n",
       "      <th></th>\n",
       "      <th>State</th>\n",
       "      <th>District</th>\n",
       "      <th>Year</th>\n",
       "      <th>Season</th>\n",
       "      <th>Crop</th>\n",
       "      <th>Area</th>\n",
       "      <th>Production</th>\n",
       "    </tr>\n",
       "  </thead>\n",
       "  <tbody>\n",
       "    <tr>\n",
       "      <th>0</th>\n",
       "      <td>Andaman and Nicobar Islands</td>\n",
       "      <td>NICOBARS</td>\n",
       "      <td>2000</td>\n",
       "      <td>Kharif</td>\n",
       "      <td>Arecanut</td>\n",
       "      <td>1254.0</td>\n",
       "      <td>2000.0</td>\n",
       "    </tr>\n",
       "    <tr>\n",
       "      <th>1</th>\n",
       "      <td>Andaman and Nicobar Islands</td>\n",
       "      <td>NICOBARS</td>\n",
       "      <td>2000</td>\n",
       "      <td>Kharif</td>\n",
       "      <td>Other Kharif pulses</td>\n",
       "      <td>2.0</td>\n",
       "      <td>1.0</td>\n",
       "    </tr>\n",
       "    <tr>\n",
       "      <th>2</th>\n",
       "      <td>Andaman and Nicobar Islands</td>\n",
       "      <td>NICOBARS</td>\n",
       "      <td>2000</td>\n",
       "      <td>Kharif</td>\n",
       "      <td>Rice</td>\n",
       "      <td>102.0</td>\n",
       "      <td>321.0</td>\n",
       "    </tr>\n",
       "    <tr>\n",
       "      <th>3</th>\n",
       "      <td>Andaman and Nicobar Islands</td>\n",
       "      <td>NICOBARS</td>\n",
       "      <td>2000</td>\n",
       "      <td>Whole Year</td>\n",
       "      <td>Banana</td>\n",
       "      <td>176.0</td>\n",
       "      <td>641.0</td>\n",
       "    </tr>\n",
       "    <tr>\n",
       "      <th>4</th>\n",
       "      <td>Andaman and Nicobar Islands</td>\n",
       "      <td>NICOBARS</td>\n",
       "      <td>2000</td>\n",
       "      <td>Whole Year</td>\n",
       "      <td>Cashewnut</td>\n",
       "      <td>720.0</td>\n",
       "      <td>165.0</td>\n",
       "    </tr>\n",
       "  </tbody>\n",
       "</table>\n",
       "</div>"
      ],
      "text/plain": [
       "                         State  District  Year       Season  \\\n",
       "0  Andaman and Nicobar Islands  NICOBARS  2000  Kharif        \n",
       "1  Andaman and Nicobar Islands  NICOBARS  2000  Kharif        \n",
       "2  Andaman and Nicobar Islands  NICOBARS  2000  Kharif        \n",
       "3  Andaman and Nicobar Islands  NICOBARS  2000  Whole Year    \n",
       "4  Andaman and Nicobar Islands  NICOBARS  2000  Whole Year    \n",
       "\n",
       "                  Crop    Area  Production  \n",
       "0             Arecanut  1254.0      2000.0  \n",
       "1  Other Kharif pulses     2.0         1.0  \n",
       "2                 Rice   102.0       321.0  \n",
       "3               Banana   176.0       641.0  \n",
       "4            Cashewnut   720.0       165.0  "
      ]
     },
     "execution_count": 5,
     "metadata": {},
     "output_type": "execute_result"
    }
   ],
   "source": [
    "df_produ.head()"
   ]
  },
  {
   "cell_type": "code",
   "execution_count": 6,
   "metadata": {},
   "outputs": [],
   "source": [
    "mask_up = (df_produ['State'] == 'Maharashtra') | (df_produ['State'] == 'Tamil Nadu') | (df_produ['State'] == 'Uttar Pradesh') | (df_produ['State'] == 'West Bengal')"
   ]
  },
  {
   "cell_type": "code",
   "execution_count": 7,
   "metadata": {},
   "outputs": [],
   "source": [
    "df_prod = df_produ[mask_up]"
   ]
  },
  {
   "cell_type": "code",
   "execution_count": 8,
   "metadata": {},
   "outputs": [],
   "source": [
    "df_prod.to_csv(\"Crop_Production.csv\", index=False)"
   ]
  },
  {
   "cell_type": "code",
   "execution_count": 9,
   "metadata": {},
   "outputs": [],
   "source": [
    "top_crops = ['Maize', 'Urad', 'Sugarcane', 'Wheat', 'Rice']"
   ]
  },
  {
   "cell_type": "code",
   "execution_count": 10,
   "metadata": {},
   "outputs": [],
   "source": [
    "df_prod = df_prod[df_prod['Crop'].isin(top_crops)]"
   ]
  },
  {
   "cell_type": "code",
   "execution_count": 11,
   "metadata": {},
   "outputs": [
    {
     "data": {
      "text/html": [
       "<div>\n",
       "<style scoped>\n",
       "    .dataframe tbody tr th:only-of-type {\n",
       "        vertical-align: middle;\n",
       "    }\n",
       "\n",
       "    .dataframe tbody tr th {\n",
       "        vertical-align: top;\n",
       "    }\n",
       "\n",
       "    .dataframe thead th {\n",
       "        text-align: right;\n",
       "    }\n",
       "</style>\n",
       "<table border=\"1\" class=\"dataframe\">\n",
       "  <thead>\n",
       "    <tr style=\"text-align: right;\">\n",
       "      <th></th>\n",
       "      <th>State</th>\n",
       "      <th>District</th>\n",
       "      <th>Year</th>\n",
       "      <th>Season</th>\n",
       "      <th>Crop</th>\n",
       "      <th>Area</th>\n",
       "      <th>Production</th>\n",
       "    </tr>\n",
       "  </thead>\n",
       "  <tbody>\n",
       "    <tr>\n",
       "      <th>125191</th>\n",
       "      <td>Maharashtra</td>\n",
       "      <td>AHMEDNAGAR</td>\n",
       "      <td>1997</td>\n",
       "      <td>Autumn</td>\n",
       "      <td>Maize</td>\n",
       "      <td>1.0</td>\n",
       "      <td>1113.0</td>\n",
       "    </tr>\n",
       "    <tr>\n",
       "      <th>125196</th>\n",
       "      <td>Maharashtra</td>\n",
       "      <td>AHMEDNAGAR</td>\n",
       "      <td>1997</td>\n",
       "      <td>Kharif</td>\n",
       "      <td>Maize</td>\n",
       "      <td>4400.0</td>\n",
       "      <td>4700.0</td>\n",
       "    </tr>\n",
       "    <tr>\n",
       "      <th>125200</th>\n",
       "      <td>Maharashtra</td>\n",
       "      <td>AHMEDNAGAR</td>\n",
       "      <td>1997</td>\n",
       "      <td>Kharif</td>\n",
       "      <td>Rice</td>\n",
       "      <td>5900.0</td>\n",
       "      <td>7200.0</td>\n",
       "    </tr>\n",
       "    <tr>\n",
       "      <th>125201</th>\n",
       "      <td>Maharashtra</td>\n",
       "      <td>AHMEDNAGAR</td>\n",
       "      <td>1997</td>\n",
       "      <td>Kharif</td>\n",
       "      <td>Sugarcane</td>\n",
       "      <td>45900.0</td>\n",
       "      <td>38940.0</td>\n",
       "    </tr>\n",
       "    <tr>\n",
       "      <th>125203</th>\n",
       "      <td>Maharashtra</td>\n",
       "      <td>AHMEDNAGAR</td>\n",
       "      <td>1997</td>\n",
       "      <td>Kharif</td>\n",
       "      <td>Urad</td>\n",
       "      <td>1600.0</td>\n",
       "      <td>800.0</td>\n",
       "    </tr>\n",
       "  </tbody>\n",
       "</table>\n",
       "</div>"
      ],
      "text/plain": [
       "              State    District  Year       Season       Crop     Area  \\\n",
       "125191  Maharashtra  AHMEDNAGAR  1997  Autumn           Maize      1.0   \n",
       "125196  Maharashtra  AHMEDNAGAR  1997  Kharif           Maize   4400.0   \n",
       "125200  Maharashtra  AHMEDNAGAR  1997  Kharif            Rice   5900.0   \n",
       "125201  Maharashtra  AHMEDNAGAR  1997  Kharif       Sugarcane  45900.0   \n",
       "125203  Maharashtra  AHMEDNAGAR  1997  Kharif            Urad   1600.0   \n",
       "\n",
       "        Production  \n",
       "125191      1113.0  \n",
       "125196      4700.0  \n",
       "125200      7200.0  \n",
       "125201     38940.0  \n",
       "125203       800.0  "
      ]
     },
     "execution_count": 11,
     "metadata": {},
     "output_type": "execute_result"
    }
   ],
   "source": [
    "df_prod.head()"
   ]
  },
  {
   "cell_type": "code",
   "execution_count": 12,
   "metadata": {},
   "outputs": [
    {
     "data": {
      "text/plain": [
       "(16440, 7)"
      ]
     },
     "execution_count": 12,
     "metadata": {},
     "output_type": "execute_result"
    }
   ],
   "source": [
    "df_prod.shape"
   ]
  },
  {
   "cell_type": "code",
   "execution_count": 13,
   "metadata": {},
   "outputs": [
    {
     "data": {
      "text/plain": [
       "array([1997, 1998, 1999, 2000, 2001, 2002, 2003, 2004, 2005, 2006, 2007,\n",
       "       2008, 2009, 2010, 2011, 2012, 2013, 2014], dtype=int64)"
      ]
     },
     "execution_count": 13,
     "metadata": {},
     "output_type": "execute_result"
    }
   ],
   "source": [
    "df_prod.Year.unique()"
   ]
  },
  {
   "cell_type": "code",
   "execution_count": 14,
   "metadata": {},
   "outputs": [],
   "source": [
    "df_prod = df_prod[(df_prod['Year'] >= 2012) & (df_prod['Year'] <= 2014)]"
   ]
  },
  {
   "cell_type": "code",
   "execution_count": 15,
   "metadata": {},
   "outputs": [
    {
     "data": {
      "text/plain": [
       "array([2012, 2013, 2014], dtype=int64)"
      ]
     },
     "execution_count": 15,
     "metadata": {},
     "output_type": "execute_result"
    }
   ],
   "source": [
    "df_prod.Year.unique()"
   ]
  },
  {
   "cell_type": "code",
   "execution_count": 16,
   "metadata": {},
   "outputs": [
    {
     "data": {
      "text/plain": [
       "array(['Kharif     ', 'Rabi       ', 'Summer     ', 'Whole Year ',\n",
       "       'Autumn     ', 'Winter     '], dtype=object)"
      ]
     },
     "execution_count": 16,
     "metadata": {},
     "output_type": "execute_result"
    }
   ],
   "source": [
    "df_prod.Season.unique()"
   ]
  },
  {
   "cell_type": "code",
   "execution_count": 17,
   "metadata": {},
   "outputs": [],
   "source": [
    "df_prod['Season'] = df_prod['Season'].str.strip().str.capitalize()"
   ]
  },
  {
   "cell_type": "code",
   "execution_count": 18,
   "metadata": {},
   "outputs": [],
   "source": [
    "df_prod['Season'].replace({'Summer':'Kharif', 'Winter':'Rabi'}, inplace=True)"
   ]
  },
  {
   "cell_type": "code",
   "execution_count": 19,
   "metadata": {},
   "outputs": [
    {
     "data": {
      "text/plain": [
       "array(['Kharif', 'Rabi', 'Whole year', 'Autumn'], dtype=object)"
      ]
     },
     "execution_count": 19,
     "metadata": {},
     "output_type": "execute_result"
    }
   ],
   "source": [
    "df_prod.Season.unique()"
   ]
  },
  {
   "cell_type": "code",
   "execution_count": 20,
   "metadata": {},
   "outputs": [],
   "source": [
    "df_prod.drop(df_prod[df_prod['Season'] == 'Autumn'].index, inplace=True)"
   ]
  },
  {
   "cell_type": "code",
   "execution_count": 21,
   "metadata": {},
   "outputs": [
    {
     "data": {
      "text/plain": [
       "array(['Kharif', 'Rabi', 'Whole year'], dtype=object)"
      ]
     },
     "execution_count": 21,
     "metadata": {},
     "output_type": "execute_result"
    }
   ],
   "source": [
    "df_prod.Season.unique()"
   ]
  },
  {
   "cell_type": "code",
   "execution_count": 22,
   "metadata": {},
   "outputs": [],
   "source": [
    "df_prod.to_csv('Crop_Production.csv', index=False)"
   ]
  },
  {
   "cell_type": "code",
   "execution_count": 23,
   "metadata": {},
   "outputs": [],
   "source": [
    "df_prod['District'] = df_prod['District'].str.strip().str.capitalize()"
   ]
  },
  {
   "cell_type": "code",
   "execution_count": 24,
   "metadata": {},
   "outputs": [
    {
     "data": {
      "text/plain": [
       "District\n",
       "Sitapur          27\n",
       "Deoria           27\n",
       "Gorakhpur        27\n",
       "Maharajganj      27\n",
       "Hardoi           26\n",
       "                 ..\n",
       "Thiruvarur        8\n",
       "Kanniyakumari     7\n",
       "Ratnagiri         5\n",
       "The nilgiris      4\n",
       "Palghar           1\n",
       "Name: count, Length: 158, dtype: int64"
      ]
     },
     "execution_count": 24,
     "metadata": {},
     "output_type": "execute_result"
    }
   ],
   "source": [
    "df_prod.District.value_counts()"
   ]
  },
  {
   "cell_type": "code",
   "execution_count": 25,
   "metadata": {},
   "outputs": [],
   "source": [
    "df_prod.to_csv('Crop_Production.csv', index=False)"
   ]
  },
  {
   "cell_type": "code",
   "execution_count": 26,
   "metadata": {},
   "outputs": [
    {
     "data": {
      "text/plain": [
       "array(['Maize', 'Rice', 'Urad', 'Wheat', 'Sugarcane'], dtype=object)"
      ]
     },
     "execution_count": 26,
     "metadata": {},
     "output_type": "execute_result"
    }
   ],
   "source": [
    "df_prod.Crop.unique()"
   ]
  },
  {
   "cell_type": "code",
   "execution_count": 27,
   "metadata": {},
   "outputs": [],
   "source": [
    "target_states = ['Maharashtra', 'Tamil Nadu', 'Uttar Pradesh', 'West Bengal']"
   ]
  },
  {
   "cell_type": "code",
   "execution_count": 28,
   "metadata": {},
   "outputs": [
    {
     "data": {
      "text/plain": [
       "array(['Ahmednagar', 'Akola', 'Amravati', 'Aurangabad', 'Beed',\n",
       "       'Bhandara', 'Buldhana', 'Chandrapur', 'Dhule', 'Gadchiroli',\n",
       "       'Gondia', 'Hingoli', 'Jalgaon', 'Jalna', 'Kolhapur', 'Latur',\n",
       "       'Nagpur', 'Nanded', 'Nandurbar', 'Nashik', 'Osmanabad', 'Palghar',\n",
       "       'Parbhani', 'Pune', 'Raigad', 'Ratnagiri', 'Sangli', 'Satara',\n",
       "       'Sindhudurg', 'Solapur', 'Thane', 'Wardha', 'Washim', 'Yavatmal',\n",
       "       'Ariyalur', 'Coimbatore', 'Cuddalore', 'Dharmapuri', 'Dindigul',\n",
       "       'Erode', 'Kanchipuram', 'Kanniyakumari', 'Karur', 'Krishnagiri',\n",
       "       'Madurai', 'Nagapattinam', 'Namakkal', 'Perambalur', 'Pudukkottai',\n",
       "       'Ramanathapuram', 'Salem', 'Sivaganga', 'Thanjavur',\n",
       "       'The nilgiris', 'Theni', 'Thiruvallur', 'Thiruvarur',\n",
       "       'Tiruchirappalli', 'Tirunelveli', 'Tiruppur', 'Tiruvannamalai',\n",
       "       'Tuticorin', 'Vellore', 'Villupuram', 'Virudhunagar', 'Agra',\n",
       "       'Aligarh', 'Allahabad', 'Ambedkar nagar', 'Amethi', 'Amroha',\n",
       "       'Auraiya', 'Azamgarh', 'Baghpat', 'Bahraich', 'Ballia',\n",
       "       'Balrampur', 'Banda', 'Barabanki', 'Bareilly', 'Basti', 'Bijnor',\n",
       "       'Budaun', 'Bulandshahr', 'Chandauli', 'Chitrakoot', 'Deoria',\n",
       "       'Etah', 'Etawah', 'Faizabad', 'Farrukhabad', 'Fatehpur',\n",
       "       'Firozabad', 'Gautam buddha nagar', 'Ghaziabad', 'Ghazipur',\n",
       "       'Gonda', 'Gorakhpur', 'Hamirpur', 'Hapur', 'Hardoi', 'Hathras',\n",
       "       'Jalaun', 'Jaunpur', 'Jhansi', 'Kannauj', 'Kanpur dehat',\n",
       "       'Kanpur nagar', 'Kasganj', 'Kaushambi', 'Kheri', 'Kushi nagar',\n",
       "       'Lalitpur', 'Lucknow', 'Maharajganj', 'Mahoba', 'Mainpuri',\n",
       "       'Mathura', 'Mau', 'Meerut', 'Mirzapur', 'Moradabad',\n",
       "       'Muzaffarnagar', 'Pilibhit', 'Pratapgarh', 'Rae bareli', 'Rampur',\n",
       "       'Saharanpur', 'Sambhal', 'Sant kabeer nagar', 'Sant ravidas nagar',\n",
       "       'Shahjahanpur', 'Shamli', 'Shravasti', 'Siddharth nagar',\n",
       "       'Sitapur', 'Sonbhadra', 'Sultanpur', 'Unnao', 'Varanasi',\n",
       "       '24 paraganas north', '24 paraganas south', 'Bankura', 'Bardhaman',\n",
       "       'Birbhum', 'Coochbehar', 'Darjeeling', 'Dinajpur dakshin',\n",
       "       'Dinajpur uttar', 'Hooghly', 'Howrah', 'Jalpaiguri', 'Maldah',\n",
       "       'Medinipur east', 'Medinipur west', 'Murshidabad', 'Nadia',\n",
       "       'Purulia'], dtype=object)"
      ]
     },
     "execution_count": 28,
     "metadata": {},
     "output_type": "execute_result"
    }
   ],
   "source": [
    "df_prod.District.unique()"
   ]
  },
  {
   "cell_type": "code",
   "execution_count": 29,
   "metadata": {},
   "outputs": [],
   "source": [
    "district_counts = df_prod.groupby(['State', 'District']).size().reset_index(name='Count')"
   ]
  },
  {
   "cell_type": "code",
   "execution_count": 30,
   "metadata": {},
   "outputs": [],
   "source": [
    "district_counts_sorted = district_counts.sort_values(by=['State','Count'], ascending=[True, False])"
   ]
  },
  {
   "cell_type": "code",
   "execution_count": 31,
   "metadata": {},
   "outputs": [],
   "source": [
    "top_15_districts = district_counts_sorted.groupby('State').head(15)['District']"
   ]
  },
  {
   "cell_type": "code",
   "execution_count": 32,
   "metadata": {},
   "outputs": [],
   "source": [
    "df_prod = df_prod[df_prod['District'].isin(top_15_districts)]"
   ]
  },
  {
   "cell_type": "code",
   "execution_count": 33,
   "metadata": {},
   "outputs": [
    {
     "name": "stdout",
     "output_type": "stream",
     "text": [
      "              State    District  Year      Season       Crop      Area  \\\n",
      "125615  Maharashtra  Ahmednagar  2012      Kharif      Maize   45000.0   \n",
      "125620  Maharashtra  Ahmednagar  2012      Kharif       Rice    7500.0   \n",
      "125624  Maharashtra  Ahmednagar  2012      Kharif       Urad    6100.0   \n",
      "125628  Maharashtra  Ahmednagar  2012        Rabi      Maize   14700.0   \n",
      "125632  Maharashtra  Ahmednagar  2012        Rabi      Wheat   38900.0   \n",
      "...             ...         ...   ...         ...        ...       ...   \n",
      "246084  West Bengal     Purulia  2014        Rabi      Wheat    1622.0   \n",
      "246085  West Bengal     Purulia  2014      Kharif      Maize     325.0   \n",
      "246086  West Bengal     Purulia  2014      Kharif       Rice     306.0   \n",
      "246088  West Bengal     Purulia  2014  Whole year  Sugarcane     324.0   \n",
      "246089  West Bengal     Purulia  2014        Rabi       Rice  279151.0   \n",
      "\n",
      "        Production  \n",
      "125615     91900.0  \n",
      "125620      4600.0  \n",
      "125624      1100.0  \n",
      "125628     24800.0  \n",
      "125632     46100.0  \n",
      "...            ...  \n",
      "246084      3663.0  \n",
      "246085      2039.0  \n",
      "246086       801.0  \n",
      "246088     16250.0  \n",
      "246089    597899.0  \n",
      "\n",
      "[1160 rows x 7 columns]\n"
     ]
    }
   ],
   "source": [
    "print(df_prod)"
   ]
  },
  {
   "cell_type": "code",
   "execution_count": 34,
   "metadata": {},
   "outputs": [
    {
     "data": {
      "text/plain": [
       "District\n",
       "Deoria                27\n",
       "Gorakhpur             27\n",
       "Maharajganj           27\n",
       "Sitapur               27\n",
       "Unnao                 26\n",
       "Hardoi                26\n",
       "Kheri                 26\n",
       "Mainpuri              25\n",
       "Meerut                25\n",
       "Moradabad             25\n",
       "Shahjahanpur          25\n",
       "Ambedkar nagar        24\n",
       "Azamgarh              24\n",
       "Bahraich              24\n",
       "Amroha                24\n",
       "Coochbehar            24\n",
       "Darjeeling            24\n",
       "Dinajpur uttar        24\n",
       "Jalpaiguri            24\n",
       "Medinipur west        24\n",
       "Murshidabad           24\n",
       "Nadia                 24\n",
       "24 paraganas north    23\n",
       "Bardhaman             22\n",
       "Kolhapur              22\n",
       "Bankura               21\n",
       "Birbhum               21\n",
       "Maldah                21\n",
       "Beed                  20\n",
       "Ahmednagar            20\n",
       "Solapur               20\n",
       "Satara                20\n",
       "Dhule                 20\n",
       "Nashik                20\n",
       "Osmanabad             20\n",
       "Pune                  20\n",
       "Purulia               20\n",
       "Sangli                19\n",
       "Gondia                19\n",
       "Nagpur                19\n",
       "Nanded                19\n",
       "Nandurbar             19\n",
       "Parbhani              19\n",
       "Hooghly               18\n",
       "24 paraganas south    18\n",
       "Madurai               10\n",
       "Perambalur            10\n",
       "Namakkal              10\n",
       "Nagapattinam          10\n",
       "Karur                 10\n",
       "Kanchipuram           10\n",
       "Krishnagiri           10\n",
       "Pudukkottai           10\n",
       "Ariyalur              10\n",
       "Coimbatore            10\n",
       "Cuddalore             10\n",
       "Dharmapuri            10\n",
       "Dindigul              10\n",
       "Erode                 10\n",
       "Salem                 10\n",
       "Name: count, dtype: int64"
      ]
     },
     "execution_count": 34,
     "metadata": {},
     "output_type": "execute_result"
    }
   ],
   "source": [
    "df_prod.District.value_counts()"
   ]
  },
  {
   "cell_type": "code",
   "execution_count": 35,
   "metadata": {},
   "outputs": [
    {
     "data": {
      "text/plain": [
       "array(['Ahmednagar', 'Beed', 'Dhule', 'Gondia', 'Kolhapur', 'Nagpur',\n",
       "       'Nanded', 'Nandurbar', 'Nashik', 'Osmanabad', 'Parbhani', 'Pune',\n",
       "       'Sangli', 'Satara', 'Solapur', 'Ariyalur', 'Coimbatore',\n",
       "       'Cuddalore', 'Dharmapuri', 'Dindigul', 'Erode', 'Kanchipuram',\n",
       "       'Karur', 'Krishnagiri', 'Madurai', 'Nagapattinam', 'Namakkal',\n",
       "       'Perambalur', 'Pudukkottai', 'Salem', 'Ambedkar nagar', 'Amroha',\n",
       "       'Azamgarh', 'Bahraich', 'Deoria', 'Gorakhpur', 'Hardoi', 'Kheri',\n",
       "       'Maharajganj', 'Mainpuri', 'Meerut', 'Moradabad', 'Shahjahanpur',\n",
       "       'Sitapur', 'Unnao', '24 paraganas north', '24 paraganas south',\n",
       "       'Bankura', 'Bardhaman', 'Birbhum', 'Coochbehar', 'Darjeeling',\n",
       "       'Dinajpur uttar', 'Hooghly', 'Jalpaiguri', 'Maldah',\n",
       "       'Medinipur west', 'Murshidabad', 'Nadia', 'Purulia'], dtype=object)"
      ]
     },
     "execution_count": 35,
     "metadata": {},
     "output_type": "execute_result"
    }
   ],
   "source": [
    "df_prod.District.unique()"
   ]
  },
  {
   "cell_type": "code",
   "execution_count": 36,
   "metadata": {},
   "outputs": [
    {
     "data": {
      "text/plain": [
       "60"
      ]
     },
     "execution_count": 36,
     "metadata": {},
     "output_type": "execute_result"
    }
   ],
   "source": [
    "len(df_prod.District.unique())"
   ]
  },
  {
   "cell_type": "code",
   "execution_count": 37,
   "metadata": {},
   "outputs": [
    {
     "data": {
      "text/plain": [
       "(1160, 7)"
      ]
     },
     "execution_count": 37,
     "metadata": {},
     "output_type": "execute_result"
    }
   ],
   "source": [
    "df_prod.shape"
   ]
  },
  {
   "cell_type": "code",
   "execution_count": 38,
   "metadata": {},
   "outputs": [],
   "source": [
    "df_prod = df_prod.reset_index(drop=True)\n",
    "df_prod.index += 1"
   ]
  },
  {
   "cell_type": "code",
   "execution_count": 39,
   "metadata": {},
   "outputs": [
    {
     "data": {
      "text/html": [
       "<div>\n",
       "<style scoped>\n",
       "    .dataframe tbody tr th:only-of-type {\n",
       "        vertical-align: middle;\n",
       "    }\n",
       "\n",
       "    .dataframe tbody tr th {\n",
       "        vertical-align: top;\n",
       "    }\n",
       "\n",
       "    .dataframe thead th {\n",
       "        text-align: right;\n",
       "    }\n",
       "</style>\n",
       "<table border=\"1\" class=\"dataframe\">\n",
       "  <thead>\n",
       "    <tr style=\"text-align: right;\">\n",
       "      <th></th>\n",
       "      <th>State</th>\n",
       "      <th>District</th>\n",
       "      <th>Year</th>\n",
       "      <th>Season</th>\n",
       "      <th>Crop</th>\n",
       "      <th>Area</th>\n",
       "      <th>Production</th>\n",
       "    </tr>\n",
       "  </thead>\n",
       "  <tbody>\n",
       "    <tr>\n",
       "      <th>1</th>\n",
       "      <td>Maharashtra</td>\n",
       "      <td>Ahmednagar</td>\n",
       "      <td>2012</td>\n",
       "      <td>Kharif</td>\n",
       "      <td>Maize</td>\n",
       "      <td>45000.0</td>\n",
       "      <td>91900.0</td>\n",
       "    </tr>\n",
       "    <tr>\n",
       "      <th>2</th>\n",
       "      <td>Maharashtra</td>\n",
       "      <td>Ahmednagar</td>\n",
       "      <td>2012</td>\n",
       "      <td>Kharif</td>\n",
       "      <td>Rice</td>\n",
       "      <td>7500.0</td>\n",
       "      <td>4600.0</td>\n",
       "    </tr>\n",
       "    <tr>\n",
       "      <th>3</th>\n",
       "      <td>Maharashtra</td>\n",
       "      <td>Ahmednagar</td>\n",
       "      <td>2012</td>\n",
       "      <td>Kharif</td>\n",
       "      <td>Urad</td>\n",
       "      <td>6100.0</td>\n",
       "      <td>1100.0</td>\n",
       "    </tr>\n",
       "    <tr>\n",
       "      <th>4</th>\n",
       "      <td>Maharashtra</td>\n",
       "      <td>Ahmednagar</td>\n",
       "      <td>2012</td>\n",
       "      <td>Rabi</td>\n",
       "      <td>Maize</td>\n",
       "      <td>14700.0</td>\n",
       "      <td>24800.0</td>\n",
       "    </tr>\n",
       "    <tr>\n",
       "      <th>5</th>\n",
       "      <td>Maharashtra</td>\n",
       "      <td>Ahmednagar</td>\n",
       "      <td>2012</td>\n",
       "      <td>Rabi</td>\n",
       "      <td>Wheat</td>\n",
       "      <td>38900.0</td>\n",
       "      <td>46100.0</td>\n",
       "    </tr>\n",
       "  </tbody>\n",
       "</table>\n",
       "</div>"
      ],
      "text/plain": [
       "         State    District  Year  Season   Crop     Area  Production\n",
       "1  Maharashtra  Ahmednagar  2012  Kharif  Maize  45000.0     91900.0\n",
       "2  Maharashtra  Ahmednagar  2012  Kharif   Rice   7500.0      4600.0\n",
       "3  Maharashtra  Ahmednagar  2012  Kharif   Urad   6100.0      1100.0\n",
       "4  Maharashtra  Ahmednagar  2012    Rabi  Maize  14700.0     24800.0\n",
       "5  Maharashtra  Ahmednagar  2012    Rabi  Wheat  38900.0     46100.0"
      ]
     },
     "execution_count": 39,
     "metadata": {},
     "output_type": "execute_result"
    }
   ],
   "source": [
    "df_prod.head()"
   ]
  },
  {
   "cell_type": "code",
   "execution_count": 40,
   "metadata": {},
   "outputs": [
    {
     "data": {
      "text/html": [
       "<div>\n",
       "<style scoped>\n",
       "    .dataframe tbody tr th:only-of-type {\n",
       "        vertical-align: middle;\n",
       "    }\n",
       "\n",
       "    .dataframe tbody tr th {\n",
       "        vertical-align: top;\n",
       "    }\n",
       "\n",
       "    .dataframe thead th {\n",
       "        text-align: right;\n",
       "    }\n",
       "</style>\n",
       "<table border=\"1\" class=\"dataframe\">\n",
       "  <thead>\n",
       "    <tr style=\"text-align: right;\">\n",
       "      <th></th>\n",
       "      <th>State</th>\n",
       "      <th>District</th>\n",
       "      <th>Year</th>\n",
       "      <th>Season</th>\n",
       "      <th>Crop</th>\n",
       "      <th>Area</th>\n",
       "      <th>Production</th>\n",
       "    </tr>\n",
       "  </thead>\n",
       "  <tbody>\n",
       "    <tr>\n",
       "      <th>1156</th>\n",
       "      <td>West Bengal</td>\n",
       "      <td>Purulia</td>\n",
       "      <td>2014</td>\n",
       "      <td>Rabi</td>\n",
       "      <td>Wheat</td>\n",
       "      <td>1622.0</td>\n",
       "      <td>3663.0</td>\n",
       "    </tr>\n",
       "    <tr>\n",
       "      <th>1157</th>\n",
       "      <td>West Bengal</td>\n",
       "      <td>Purulia</td>\n",
       "      <td>2014</td>\n",
       "      <td>Kharif</td>\n",
       "      <td>Maize</td>\n",
       "      <td>325.0</td>\n",
       "      <td>2039.0</td>\n",
       "    </tr>\n",
       "    <tr>\n",
       "      <th>1158</th>\n",
       "      <td>West Bengal</td>\n",
       "      <td>Purulia</td>\n",
       "      <td>2014</td>\n",
       "      <td>Kharif</td>\n",
       "      <td>Rice</td>\n",
       "      <td>306.0</td>\n",
       "      <td>801.0</td>\n",
       "    </tr>\n",
       "    <tr>\n",
       "      <th>1159</th>\n",
       "      <td>West Bengal</td>\n",
       "      <td>Purulia</td>\n",
       "      <td>2014</td>\n",
       "      <td>Whole year</td>\n",
       "      <td>Sugarcane</td>\n",
       "      <td>324.0</td>\n",
       "      <td>16250.0</td>\n",
       "    </tr>\n",
       "    <tr>\n",
       "      <th>1160</th>\n",
       "      <td>West Bengal</td>\n",
       "      <td>Purulia</td>\n",
       "      <td>2014</td>\n",
       "      <td>Rabi</td>\n",
       "      <td>Rice</td>\n",
       "      <td>279151.0</td>\n",
       "      <td>597899.0</td>\n",
       "    </tr>\n",
       "  </tbody>\n",
       "</table>\n",
       "</div>"
      ],
      "text/plain": [
       "            State District  Year      Season       Crop      Area  Production\n",
       "1156  West Bengal  Purulia  2014        Rabi      Wheat    1622.0      3663.0\n",
       "1157  West Bengal  Purulia  2014      Kharif      Maize     325.0      2039.0\n",
       "1158  West Bengal  Purulia  2014      Kharif       Rice     306.0       801.0\n",
       "1159  West Bengal  Purulia  2014  Whole year  Sugarcane     324.0     16250.0\n",
       "1160  West Bengal  Purulia  2014        Rabi       Rice  279151.0    597899.0"
      ]
     },
     "execution_count": 40,
     "metadata": {},
     "output_type": "execute_result"
    }
   ],
   "source": [
    "df_prod.tail()"
   ]
  },
  {
   "cell_type": "markdown",
   "metadata": {},
   "source": [
    "## Data Cleaning"
   ]
  },
  {
   "cell_type": "code",
   "execution_count": 41,
   "metadata": {},
   "outputs": [
    {
     "data": {
      "text/plain": [
       "(1160, 7)"
      ]
     },
     "execution_count": 41,
     "metadata": {},
     "output_type": "execute_result"
    }
   ],
   "source": [
    "df_prod.shape"
   ]
  },
  {
   "cell_type": "code",
   "execution_count": 42,
   "metadata": {},
   "outputs": [
    {
     "name": "stdout",
     "output_type": "stream",
     "text": [
      "<class 'pandas.core.frame.DataFrame'>\n",
      "RangeIndex: 1160 entries, 1 to 1160\n",
      "Data columns (total 7 columns):\n",
      " #   Column      Non-Null Count  Dtype  \n",
      "---  ------      --------------  -----  \n",
      " 0   State       1160 non-null   object \n",
      " 1   District    1160 non-null   object \n",
      " 2   Year        1160 non-null   int64  \n",
      " 3   Season      1160 non-null   object \n",
      " 4   Crop        1160 non-null   object \n",
      " 5   Area        1160 non-null   float64\n",
      " 6   Production  1158 non-null   float64\n",
      "dtypes: float64(2), int64(1), object(4)\n",
      "memory usage: 63.6+ KB\n"
     ]
    }
   ],
   "source": [
    "df_prod.info()"
   ]
  },
  {
   "cell_type": "code",
   "execution_count": 43,
   "metadata": {},
   "outputs": [
    {
     "data": {
      "text/html": [
       "<div>\n",
       "<style scoped>\n",
       "    .dataframe tbody tr th:only-of-type {\n",
       "        vertical-align: middle;\n",
       "    }\n",
       "\n",
       "    .dataframe tbody tr th {\n",
       "        vertical-align: top;\n",
       "    }\n",
       "\n",
       "    .dataframe thead th {\n",
       "        text-align: right;\n",
       "    }\n",
       "</style>\n",
       "<table border=\"1\" class=\"dataframe\">\n",
       "  <thead>\n",
       "    <tr style=\"text-align: right;\">\n",
       "      <th></th>\n",
       "      <th>Year</th>\n",
       "      <th>Area</th>\n",
       "      <th>Production</th>\n",
       "    </tr>\n",
       "  </thead>\n",
       "  <tbody>\n",
       "    <tr>\n",
       "      <th>count</th>\n",
       "      <td>1160.000000</td>\n",
       "      <td>1160.000000</td>\n",
       "      <td>1.158000e+03</td>\n",
       "    </tr>\n",
       "    <tr>\n",
       "      <th>mean</th>\n",
       "      <td>2012.943966</td>\n",
       "      <td>36871.797414</td>\n",
       "      <td>4.505082e+05</td>\n",
       "    </tr>\n",
       "    <tr>\n",
       "      <th>std</th>\n",
       "      <td>0.791106</td>\n",
       "      <td>69869.818849</td>\n",
       "      <td>1.819879e+06</td>\n",
       "    </tr>\n",
       "    <tr>\n",
       "      <th>min</th>\n",
       "      <td>2012.000000</td>\n",
       "      <td>1.000000</td>\n",
       "      <td>0.000000e+00</td>\n",
       "    </tr>\n",
       "    <tr>\n",
       "      <th>25%</th>\n",
       "      <td>2012.000000</td>\n",
       "      <td>453.750000</td>\n",
       "      <td>6.000000e+02</td>\n",
       "    </tr>\n",
       "    <tr>\n",
       "      <th>50%</th>\n",
       "      <td>2013.000000</td>\n",
       "      <td>4058.500000</td>\n",
       "      <td>1.101450e+04</td>\n",
       "    </tr>\n",
       "    <tr>\n",
       "      <th>75%</th>\n",
       "      <td>2014.000000</td>\n",
       "      <td>36224.500000</td>\n",
       "      <td>1.784348e+05</td>\n",
       "    </tr>\n",
       "    <tr>\n",
       "      <th>max</th>\n",
       "      <td>2014.000000</td>\n",
       "      <td>502667.000000</td>\n",
       "      <td>2.004970e+07</td>\n",
       "    </tr>\n",
       "  </tbody>\n",
       "</table>\n",
       "</div>"
      ],
      "text/plain": [
       "              Year           Area    Production\n",
       "count  1160.000000    1160.000000  1.158000e+03\n",
       "mean   2012.943966   36871.797414  4.505082e+05\n",
       "std       0.791106   69869.818849  1.819879e+06\n",
       "min    2012.000000       1.000000  0.000000e+00\n",
       "25%    2012.000000     453.750000  6.000000e+02\n",
       "50%    2013.000000    4058.500000  1.101450e+04\n",
       "75%    2014.000000   36224.500000  1.784348e+05\n",
       "max    2014.000000  502667.000000  2.004970e+07"
      ]
     },
     "execution_count": 43,
     "metadata": {},
     "output_type": "execute_result"
    }
   ],
   "source": [
    "df_prod.describe()"
   ]
  },
  {
   "cell_type": "code",
   "execution_count": 44,
   "metadata": {},
   "outputs": [
    {
     "data": {
      "text/html": [
       "<div>\n",
       "<style scoped>\n",
       "    .dataframe tbody tr th:only-of-type {\n",
       "        vertical-align: middle;\n",
       "    }\n",
       "\n",
       "    .dataframe tbody tr th {\n",
       "        vertical-align: top;\n",
       "    }\n",
       "\n",
       "    .dataframe thead th {\n",
       "        text-align: right;\n",
       "    }\n",
       "</style>\n",
       "<table border=\"1\" class=\"dataframe\">\n",
       "  <thead>\n",
       "    <tr style=\"text-align: right;\">\n",
       "      <th></th>\n",
       "      <th>State</th>\n",
       "      <th>District</th>\n",
       "      <th>Year</th>\n",
       "      <th>Season</th>\n",
       "      <th>Crop</th>\n",
       "      <th>Area</th>\n",
       "      <th>Production</th>\n",
       "    </tr>\n",
       "  </thead>\n",
       "  <tbody>\n",
       "    <tr>\n",
       "      <th>1</th>\n",
       "      <td>Maharashtra</td>\n",
       "      <td>Ahmednagar</td>\n",
       "      <td>2012</td>\n",
       "      <td>Kharif</td>\n",
       "      <td>Maize</td>\n",
       "      <td>45000.0</td>\n",
       "      <td>91900.0</td>\n",
       "    </tr>\n",
       "    <tr>\n",
       "      <th>2</th>\n",
       "      <td>Maharashtra</td>\n",
       "      <td>Ahmednagar</td>\n",
       "      <td>2012</td>\n",
       "      <td>Kharif</td>\n",
       "      <td>Rice</td>\n",
       "      <td>7500.0</td>\n",
       "      <td>4600.0</td>\n",
       "    </tr>\n",
       "    <tr>\n",
       "      <th>3</th>\n",
       "      <td>Maharashtra</td>\n",
       "      <td>Ahmednagar</td>\n",
       "      <td>2012</td>\n",
       "      <td>Kharif</td>\n",
       "      <td>Urad</td>\n",
       "      <td>6100.0</td>\n",
       "      <td>1100.0</td>\n",
       "    </tr>\n",
       "    <tr>\n",
       "      <th>4</th>\n",
       "      <td>Maharashtra</td>\n",
       "      <td>Ahmednagar</td>\n",
       "      <td>2012</td>\n",
       "      <td>Rabi</td>\n",
       "      <td>Maize</td>\n",
       "      <td>14700.0</td>\n",
       "      <td>24800.0</td>\n",
       "    </tr>\n",
       "    <tr>\n",
       "      <th>5</th>\n",
       "      <td>Maharashtra</td>\n",
       "      <td>Ahmednagar</td>\n",
       "      <td>2012</td>\n",
       "      <td>Rabi</td>\n",
       "      <td>Wheat</td>\n",
       "      <td>38900.0</td>\n",
       "      <td>46100.0</td>\n",
       "    </tr>\n",
       "  </tbody>\n",
       "</table>\n",
       "</div>"
      ],
      "text/plain": [
       "         State    District  Year  Season   Crop     Area  Production\n",
       "1  Maharashtra  Ahmednagar  2012  Kharif  Maize  45000.0     91900.0\n",
       "2  Maharashtra  Ahmednagar  2012  Kharif   Rice   7500.0      4600.0\n",
       "3  Maharashtra  Ahmednagar  2012  Kharif   Urad   6100.0      1100.0\n",
       "4  Maharashtra  Ahmednagar  2012    Rabi  Maize  14700.0     24800.0\n",
       "5  Maharashtra  Ahmednagar  2012    Rabi  Wheat  38900.0     46100.0"
      ]
     },
     "execution_count": 44,
     "metadata": {},
     "output_type": "execute_result"
    }
   ],
   "source": [
    "df_prod.head()"
   ]
  },
  {
   "cell_type": "code",
   "execution_count": 45,
   "metadata": {},
   "outputs": [
    {
     "data": {
      "text/plain": [
       "State         0\n",
       "District      0\n",
       "Year          0\n",
       "Season        0\n",
       "Crop          0\n",
       "Area          0\n",
       "Production    2\n",
       "dtype: int64"
      ]
     },
     "execution_count": 45,
     "metadata": {},
     "output_type": "execute_result"
    }
   ],
   "source": [
    "df_prod.isnull().sum()"
   ]
  },
  {
   "cell_type": "code",
   "execution_count": 46,
   "metadata": {},
   "outputs": [],
   "source": [
    "df_prod['Production'].fillna(0, inplace=True)"
   ]
  },
  {
   "cell_type": "code",
   "execution_count": 47,
   "metadata": {},
   "outputs": [],
   "source": [
    "df_prod.drop_duplicates(keep=False, inplace=True)"
   ]
  },
  {
   "cell_type": "code",
   "execution_count": 48,
   "metadata": {},
   "outputs": [
    {
     "data": {
      "text/plain": [
       "State         0\n",
       "District      0\n",
       "Year          0\n",
       "Season        0\n",
       "Crop          0\n",
       "Area          0\n",
       "Production    0\n",
       "dtype: int64"
      ]
     },
     "execution_count": 48,
     "metadata": {},
     "output_type": "execute_result"
    }
   ],
   "source": [
    "df_prod.isnull().sum()"
   ]
  },
  {
   "cell_type": "code",
   "execution_count": 49,
   "metadata": {},
   "outputs": [],
   "source": [
    "df_prod.to_csv('Crop_Production.csv', index=False)"
   ]
  },
  {
   "cell_type": "markdown",
   "metadata": {},
   "source": [
    "### Adding Target Feature: Yield"
   ]
  },
  {
   "cell_type": "code",
   "execution_count": 50,
   "metadata": {},
   "outputs": [],
   "source": [
    "df_prod[\"Yield\"] = df_prod['Production']/df_prod['Area']"
   ]
  },
  {
   "cell_type": "code",
   "execution_count": 51,
   "metadata": {},
   "outputs": [
    {
     "data": {
      "text/html": [
       "<div>\n",
       "<style scoped>\n",
       "    .dataframe tbody tr th:only-of-type {\n",
       "        vertical-align: middle;\n",
       "    }\n",
       "\n",
       "    .dataframe tbody tr th {\n",
       "        vertical-align: top;\n",
       "    }\n",
       "\n",
       "    .dataframe thead th {\n",
       "        text-align: right;\n",
       "    }\n",
       "</style>\n",
       "<table border=\"1\" class=\"dataframe\">\n",
       "  <thead>\n",
       "    <tr style=\"text-align: right;\">\n",
       "      <th></th>\n",
       "      <th>State</th>\n",
       "      <th>District</th>\n",
       "      <th>Year</th>\n",
       "      <th>Season</th>\n",
       "      <th>Crop</th>\n",
       "      <th>Area</th>\n",
       "      <th>Production</th>\n",
       "      <th>Yield</th>\n",
       "    </tr>\n",
       "  </thead>\n",
       "  <tbody>\n",
       "    <tr>\n",
       "      <th>1</th>\n",
       "      <td>Maharashtra</td>\n",
       "      <td>Ahmednagar</td>\n",
       "      <td>2012</td>\n",
       "      <td>Kharif</td>\n",
       "      <td>Maize</td>\n",
       "      <td>45000.0</td>\n",
       "      <td>91900.0</td>\n",
       "      <td>2.042222</td>\n",
       "    </tr>\n",
       "    <tr>\n",
       "      <th>2</th>\n",
       "      <td>Maharashtra</td>\n",
       "      <td>Ahmednagar</td>\n",
       "      <td>2012</td>\n",
       "      <td>Kharif</td>\n",
       "      <td>Rice</td>\n",
       "      <td>7500.0</td>\n",
       "      <td>4600.0</td>\n",
       "      <td>0.613333</td>\n",
       "    </tr>\n",
       "    <tr>\n",
       "      <th>3</th>\n",
       "      <td>Maharashtra</td>\n",
       "      <td>Ahmednagar</td>\n",
       "      <td>2012</td>\n",
       "      <td>Kharif</td>\n",
       "      <td>Urad</td>\n",
       "      <td>6100.0</td>\n",
       "      <td>1100.0</td>\n",
       "      <td>0.180328</td>\n",
       "    </tr>\n",
       "    <tr>\n",
       "      <th>4</th>\n",
       "      <td>Maharashtra</td>\n",
       "      <td>Ahmednagar</td>\n",
       "      <td>2012</td>\n",
       "      <td>Rabi</td>\n",
       "      <td>Maize</td>\n",
       "      <td>14700.0</td>\n",
       "      <td>24800.0</td>\n",
       "      <td>1.687075</td>\n",
       "    </tr>\n",
       "    <tr>\n",
       "      <th>5</th>\n",
       "      <td>Maharashtra</td>\n",
       "      <td>Ahmednagar</td>\n",
       "      <td>2012</td>\n",
       "      <td>Rabi</td>\n",
       "      <td>Wheat</td>\n",
       "      <td>38900.0</td>\n",
       "      <td>46100.0</td>\n",
       "      <td>1.185090</td>\n",
       "    </tr>\n",
       "  </tbody>\n",
       "</table>\n",
       "</div>"
      ],
      "text/plain": [
       "         State    District  Year  Season   Crop     Area  Production     Yield\n",
       "1  Maharashtra  Ahmednagar  2012  Kharif  Maize  45000.0     91900.0  2.042222\n",
       "2  Maharashtra  Ahmednagar  2012  Kharif   Rice   7500.0      4600.0  0.613333\n",
       "3  Maharashtra  Ahmednagar  2012  Kharif   Urad   6100.0      1100.0  0.180328\n",
       "4  Maharashtra  Ahmednagar  2012    Rabi  Maize  14700.0     24800.0  1.687075\n",
       "5  Maharashtra  Ahmednagar  2012    Rabi  Wheat  38900.0     46100.0  1.185090"
      ]
     },
     "execution_count": 51,
     "metadata": {},
     "output_type": "execute_result"
    }
   ],
   "source": [
    "df_prod.head()"
   ]
  },
  {
   "cell_type": "code",
   "execution_count": 52,
   "metadata": {},
   "outputs": [
    {
     "data": {
      "text/plain": [
       "(1158, 8)"
      ]
     },
     "execution_count": 52,
     "metadata": {},
     "output_type": "execute_result"
    }
   ],
   "source": [
    "df_prod.shape"
   ]
  },
  {
   "cell_type": "markdown",
   "metadata": {},
   "source": [
    "### Adding District Wise Data of Soil Type"
   ]
  },
  {
   "cell_type": "code",
   "execution_count": 53,
   "metadata": {},
   "outputs": [],
   "source": [
    "df_merge = pd.merge(df_prod, df_soil, on=['State', 'District'], how='inner')"
   ]
  },
  {
   "cell_type": "code",
   "execution_count": 54,
   "metadata": {},
   "outputs": [],
   "source": [
    "df_merge = df_merge.reset_index(drop=True)\n",
    "df_merge.index += 1"
   ]
  },
  {
   "cell_type": "code",
   "execution_count": 55,
   "metadata": {},
   "outputs": [
    {
     "data": {
      "text/html": [
       "<div>\n",
       "<style scoped>\n",
       "    .dataframe tbody tr th:only-of-type {\n",
       "        vertical-align: middle;\n",
       "    }\n",
       "\n",
       "    .dataframe tbody tr th {\n",
       "        vertical-align: top;\n",
       "    }\n",
       "\n",
       "    .dataframe thead th {\n",
       "        text-align: right;\n",
       "    }\n",
       "</style>\n",
       "<table border=\"1\" class=\"dataframe\">\n",
       "  <thead>\n",
       "    <tr style=\"text-align: right;\">\n",
       "      <th></th>\n",
       "      <th>State</th>\n",
       "      <th>District</th>\n",
       "      <th>Year</th>\n",
       "      <th>Season</th>\n",
       "      <th>Crop</th>\n",
       "      <th>Area</th>\n",
       "      <th>Production</th>\n",
       "      <th>Yield</th>\n",
       "      <th>Soil Type</th>\n",
       "    </tr>\n",
       "  </thead>\n",
       "  <tbody>\n",
       "    <tr>\n",
       "      <th>1</th>\n",
       "      <td>Maharashtra</td>\n",
       "      <td>Ahmednagar</td>\n",
       "      <td>2012</td>\n",
       "      <td>Kharif</td>\n",
       "      <td>Maize</td>\n",
       "      <td>45000.0</td>\n",
       "      <td>91900.0</td>\n",
       "      <td>2.042222</td>\n",
       "      <td>Black Soil, Red Soil, Alluvial Soil, Laterite ...</td>\n",
       "    </tr>\n",
       "    <tr>\n",
       "      <th>2</th>\n",
       "      <td>Maharashtra</td>\n",
       "      <td>Ahmednagar</td>\n",
       "      <td>2012</td>\n",
       "      <td>Kharif</td>\n",
       "      <td>Rice</td>\n",
       "      <td>7500.0</td>\n",
       "      <td>4600.0</td>\n",
       "      <td>0.613333</td>\n",
       "      <td>Black Soil, Red Soil, Alluvial Soil, Laterite ...</td>\n",
       "    </tr>\n",
       "    <tr>\n",
       "      <th>3</th>\n",
       "      <td>Maharashtra</td>\n",
       "      <td>Ahmednagar</td>\n",
       "      <td>2012</td>\n",
       "      <td>Kharif</td>\n",
       "      <td>Urad</td>\n",
       "      <td>6100.0</td>\n",
       "      <td>1100.0</td>\n",
       "      <td>0.180328</td>\n",
       "      <td>Black Soil, Red Soil, Alluvial Soil, Laterite ...</td>\n",
       "    </tr>\n",
       "    <tr>\n",
       "      <th>4</th>\n",
       "      <td>Maharashtra</td>\n",
       "      <td>Ahmednagar</td>\n",
       "      <td>2012</td>\n",
       "      <td>Rabi</td>\n",
       "      <td>Maize</td>\n",
       "      <td>14700.0</td>\n",
       "      <td>24800.0</td>\n",
       "      <td>1.687075</td>\n",
       "      <td>Black Soil, Red Soil, Alluvial Soil, Laterite ...</td>\n",
       "    </tr>\n",
       "    <tr>\n",
       "      <th>5</th>\n",
       "      <td>Maharashtra</td>\n",
       "      <td>Ahmednagar</td>\n",
       "      <td>2012</td>\n",
       "      <td>Rabi</td>\n",
       "      <td>Wheat</td>\n",
       "      <td>38900.0</td>\n",
       "      <td>46100.0</td>\n",
       "      <td>1.185090</td>\n",
       "      <td>Black Soil, Red Soil, Alluvial Soil, Laterite ...</td>\n",
       "    </tr>\n",
       "  </tbody>\n",
       "</table>\n",
       "</div>"
      ],
      "text/plain": [
       "         State    District  Year  Season   Crop     Area  Production  \\\n",
       "1  Maharashtra  Ahmednagar  2012  Kharif  Maize  45000.0     91900.0   \n",
       "2  Maharashtra  Ahmednagar  2012  Kharif   Rice   7500.0      4600.0   \n",
       "3  Maharashtra  Ahmednagar  2012  Kharif   Urad   6100.0      1100.0   \n",
       "4  Maharashtra  Ahmednagar  2012    Rabi  Maize  14700.0     24800.0   \n",
       "5  Maharashtra  Ahmednagar  2012    Rabi  Wheat  38900.0     46100.0   \n",
       "\n",
       "      Yield                                          Soil Type  \n",
       "1  2.042222  Black Soil, Red Soil, Alluvial Soil, Laterite ...  \n",
       "2  0.613333  Black Soil, Red Soil, Alluvial Soil, Laterite ...  \n",
       "3  0.180328  Black Soil, Red Soil, Alluvial Soil, Laterite ...  \n",
       "4  1.687075  Black Soil, Red Soil, Alluvial Soil, Laterite ...  \n",
       "5  1.185090  Black Soil, Red Soil, Alluvial Soil, Laterite ...  "
      ]
     },
     "execution_count": 55,
     "metadata": {},
     "output_type": "execute_result"
    }
   ],
   "source": [
    "df_merge.head()"
   ]
  },
  {
   "cell_type": "code",
   "execution_count": 56,
   "metadata": {},
   "outputs": [],
   "source": [
    "df_merge.to_csv('Dataset.csv', index=False)"
   ]
  },
  {
   "cell_type": "code",
   "execution_count": 57,
   "metadata": {},
   "outputs": [
    {
     "name": "stdout",
     "output_type": "stream",
     "text": [
      "<class 'set'>\n"
     ]
    }
   ],
   "source": [
    "unique_soil_types = set([soil.strip().lower() for types in df_merge['Soil Type'] for soil in types.split(',')])\n",
    "soil_dummies = pd.DataFrame({soil_type: [int(1) if soil_type in types.lower() else int(0) for types in df_merge['Soil Type']] for soil_type in unique_soil_types})\n",
    "\n",
    "print(type(unique_soil_types))"
   ]
  },
  {
   "cell_type": "code",
   "execution_count": 58,
   "metadata": {},
   "outputs": [
    {
     "name": "stdout",
     "output_type": "stream",
     "text": [
      "{'sandy soil', 'loamy soil', 'mountain soil', 'red soil', 'clayey soil', 'black soil', 'laterite soil', 'forest soil', 'alluvial soil'}\n"
     ]
    }
   ],
   "source": [
    "print(unique_soil_types)"
   ]
  },
  {
   "cell_type": "code",
   "execution_count": 59,
   "metadata": {},
   "outputs": [
    {
     "name": "stdout",
     "output_type": "stream",
     "text": [
      "      sandy soil  loamy soil  mountain soil  red soil  clayey soil  \\\n",
      "0              0           0              0         1            0   \n",
      "1              0           0              0         1            0   \n",
      "2              0           0              0         1            0   \n",
      "3              0           0              0         1            0   \n",
      "4              0           0              0         1            0   \n",
      "...          ...         ...            ...       ...          ...   \n",
      "1000           0           0              0         1            0   \n",
      "1001           0           0              0         1            0   \n",
      "1002           0           0              0         1            0   \n",
      "1003           0           0              0         1            0   \n",
      "1004           0           0              0         1            0   \n",
      "\n",
      "      black soil  laterite soil  forest soil  alluvial soil  \n",
      "0              1              1            0              1  \n",
      "1              1              1            0              1  \n",
      "2              1              1            0              1  \n",
      "3              1              1            0              1  \n",
      "4              1              1            0              1  \n",
      "...          ...            ...          ...            ...  \n",
      "1000           0              1            0              0  \n",
      "1001           0              1            0              0  \n",
      "1002           0              1            0              0  \n",
      "1003           0              1            0              0  \n",
      "1004           0              1            0              0  \n",
      "\n",
      "[1005 rows x 9 columns]\n"
     ]
    }
   ],
   "source": [
    "soil_dummies = soil_dummies.astype(int)\n",
    "\n",
    "print(soil_dummies)"
   ]
  },
  {
   "cell_type": "code",
   "execution_count": 60,
   "metadata": {},
   "outputs": [],
   "source": [
    "df_merge = pd.concat([df_merge, soil_dummies], axis=1)\n",
    "\n",
    "df_merge = df_merge.dropna()"
   ]
  },
  {
   "cell_type": "code",
   "execution_count": 61,
   "metadata": {},
   "outputs": [
    {
     "name": "stdout",
     "output_type": "stream",
     "text": [
      "            State    District    Year      Season       Crop     Area  \\\n",
      "1     Maharashtra  Ahmednagar  2012.0      Kharif      Maize  45000.0   \n",
      "2     Maharashtra  Ahmednagar  2012.0      Kharif       Rice   7500.0   \n",
      "3     Maharashtra  Ahmednagar  2012.0      Kharif       Urad   6100.0   \n",
      "4     Maharashtra  Ahmednagar  2012.0        Rabi      Maize  14700.0   \n",
      "5     Maharashtra  Ahmednagar  2012.0        Rabi      Wheat  38900.0   \n",
      "...           ...         ...     ...         ...        ...      ...   \n",
      "1000  West Bengal     Purulia  2014.0        Rabi       Urad    220.0   \n",
      "1001  West Bengal     Purulia  2014.0        Rabi      Wheat   1622.0   \n",
      "1002  West Bengal     Purulia  2014.0      Kharif      Maize    325.0   \n",
      "1003  West Bengal     Purulia  2014.0      Kharif       Rice    306.0   \n",
      "1004  West Bengal     Purulia  2014.0  Whole year  Sugarcane    324.0   \n",
      "\n",
      "      Production      Yield  \\\n",
      "1        91900.0   2.042222   \n",
      "2         4600.0   0.613333   \n",
      "3         1100.0   0.180328   \n",
      "4        24800.0   1.687075   \n",
      "5        46100.0   1.185090   \n",
      "...          ...        ...   \n",
      "1000       113.0   0.513636   \n",
      "1001      3663.0   2.258323   \n",
      "1002      2039.0   6.273846   \n",
      "1003       801.0   2.617647   \n",
      "1004     16250.0  50.154321   \n",
      "\n",
      "                                              Soil Type  sandy soil  \\\n",
      "1     Black Soil, Red Soil, Alluvial Soil, Laterite ...           0   \n",
      "2     Black Soil, Red Soil, Alluvial Soil, Laterite ...           0   \n",
      "3     Black Soil, Red Soil, Alluvial Soil, Laterite ...           0   \n",
      "4     Black Soil, Red Soil, Alluvial Soil, Laterite ...           0   \n",
      "5     Black Soil, Red Soil, Alluvial Soil, Laterite ...           0   \n",
      "...                                                 ...         ...   \n",
      "1000                            Red Soil, Laterite Soil           0   \n",
      "1001                            Red Soil, Laterite Soil           0   \n",
      "1002                            Red Soil, Laterite Soil           0   \n",
      "1003                            Red Soil, Laterite Soil           0   \n",
      "1004                            Red Soil, Laterite Soil           0   \n",
      "\n",
      "      loamy soil  mountain soil  red soil  clayey soil  black soil  \\\n",
      "1              0              0         1            0           1   \n",
      "2              0              0         1            0           1   \n",
      "3              0              0         1            0           1   \n",
      "4              0              0         1            0           1   \n",
      "5              0              0         1            0           1   \n",
      "...          ...            ...       ...          ...         ...   \n",
      "1000           0              0         1            0           0   \n",
      "1001           0              0         1            0           0   \n",
      "1002           0              0         1            0           0   \n",
      "1003           0              0         1            0           0   \n",
      "1004           0              0         1            0           0   \n",
      "\n",
      "      laterite soil  forest soil  alluvial soil  \n",
      "1                 1            0              1  \n",
      "2                 1            0              1  \n",
      "3                 1            0              1  \n",
      "4                 1            0              1  \n",
      "5                 1            0              1  \n",
      "...             ...          ...            ...  \n",
      "1000              1            0              0  \n",
      "1001              1            0              0  \n",
      "1002              1            0              0  \n",
      "1003              1            0              0  \n",
      "1004              1            0              0  \n",
      "\n",
      "[1004 rows x 18 columns]\n"
     ]
    }
   ],
   "source": [
    "for cn in soil_dummies.columns:\n",
    "    if cn in df_merge.columns:\n",
    "        df_merge[cn] = df_merge[cn].astype(int)\n",
    "print(df_merge)"
   ]
  },
  {
   "cell_type": "code",
   "execution_count": 62,
   "metadata": {},
   "outputs": [
    {
     "data": {
      "text/html": [
       "<div>\n",
       "<style scoped>\n",
       "    .dataframe tbody tr th:only-of-type {\n",
       "        vertical-align: middle;\n",
       "    }\n",
       "\n",
       "    .dataframe tbody tr th {\n",
       "        vertical-align: top;\n",
       "    }\n",
       "\n",
       "    .dataframe thead th {\n",
       "        text-align: right;\n",
       "    }\n",
       "</style>\n",
       "<table border=\"1\" class=\"dataframe\">\n",
       "  <thead>\n",
       "    <tr style=\"text-align: right;\">\n",
       "      <th></th>\n",
       "      <th>State</th>\n",
       "      <th>District</th>\n",
       "      <th>Year</th>\n",
       "      <th>Season</th>\n",
       "      <th>Crop</th>\n",
       "      <th>Area</th>\n",
       "      <th>Production</th>\n",
       "      <th>Yield</th>\n",
       "      <th>Soil Type</th>\n",
       "      <th>sandy soil</th>\n",
       "      <th>loamy soil</th>\n",
       "      <th>mountain soil</th>\n",
       "      <th>red soil</th>\n",
       "      <th>clayey soil</th>\n",
       "      <th>black soil</th>\n",
       "      <th>laterite soil</th>\n",
       "      <th>forest soil</th>\n",
       "      <th>alluvial soil</th>\n",
       "    </tr>\n",
       "  </thead>\n",
       "  <tbody>\n",
       "    <tr>\n",
       "      <th>1</th>\n",
       "      <td>Maharashtra</td>\n",
       "      <td>Ahmednagar</td>\n",
       "      <td>2012.0</td>\n",
       "      <td>Kharif</td>\n",
       "      <td>Maize</td>\n",
       "      <td>45000.0</td>\n",
       "      <td>91900.0</td>\n",
       "      <td>2.042222</td>\n",
       "      <td>Black Soil, Red Soil, Alluvial Soil, Laterite ...</td>\n",
       "      <td>0</td>\n",
       "      <td>0</td>\n",
       "      <td>0</td>\n",
       "      <td>1</td>\n",
       "      <td>0</td>\n",
       "      <td>1</td>\n",
       "      <td>1</td>\n",
       "      <td>0</td>\n",
       "      <td>1</td>\n",
       "    </tr>\n",
       "    <tr>\n",
       "      <th>2</th>\n",
       "      <td>Maharashtra</td>\n",
       "      <td>Ahmednagar</td>\n",
       "      <td>2012.0</td>\n",
       "      <td>Kharif</td>\n",
       "      <td>Rice</td>\n",
       "      <td>7500.0</td>\n",
       "      <td>4600.0</td>\n",
       "      <td>0.613333</td>\n",
       "      <td>Black Soil, Red Soil, Alluvial Soil, Laterite ...</td>\n",
       "      <td>0</td>\n",
       "      <td>0</td>\n",
       "      <td>0</td>\n",
       "      <td>1</td>\n",
       "      <td>0</td>\n",
       "      <td>1</td>\n",
       "      <td>1</td>\n",
       "      <td>0</td>\n",
       "      <td>1</td>\n",
       "    </tr>\n",
       "    <tr>\n",
       "      <th>3</th>\n",
       "      <td>Maharashtra</td>\n",
       "      <td>Ahmednagar</td>\n",
       "      <td>2012.0</td>\n",
       "      <td>Kharif</td>\n",
       "      <td>Urad</td>\n",
       "      <td>6100.0</td>\n",
       "      <td>1100.0</td>\n",
       "      <td>0.180328</td>\n",
       "      <td>Black Soil, Red Soil, Alluvial Soil, Laterite ...</td>\n",
       "      <td>0</td>\n",
       "      <td>0</td>\n",
       "      <td>0</td>\n",
       "      <td>1</td>\n",
       "      <td>0</td>\n",
       "      <td>1</td>\n",
       "      <td>1</td>\n",
       "      <td>0</td>\n",
       "      <td>1</td>\n",
       "    </tr>\n",
       "    <tr>\n",
       "      <th>4</th>\n",
       "      <td>Maharashtra</td>\n",
       "      <td>Ahmednagar</td>\n",
       "      <td>2012.0</td>\n",
       "      <td>Rabi</td>\n",
       "      <td>Maize</td>\n",
       "      <td>14700.0</td>\n",
       "      <td>24800.0</td>\n",
       "      <td>1.687075</td>\n",
       "      <td>Black Soil, Red Soil, Alluvial Soil, Laterite ...</td>\n",
       "      <td>0</td>\n",
       "      <td>0</td>\n",
       "      <td>0</td>\n",
       "      <td>1</td>\n",
       "      <td>0</td>\n",
       "      <td>1</td>\n",
       "      <td>1</td>\n",
       "      <td>0</td>\n",
       "      <td>1</td>\n",
       "    </tr>\n",
       "    <tr>\n",
       "      <th>5</th>\n",
       "      <td>Maharashtra</td>\n",
       "      <td>Ahmednagar</td>\n",
       "      <td>2012.0</td>\n",
       "      <td>Rabi</td>\n",
       "      <td>Wheat</td>\n",
       "      <td>38900.0</td>\n",
       "      <td>46100.0</td>\n",
       "      <td>1.185090</td>\n",
       "      <td>Black Soil, Red Soil, Alluvial Soil, Laterite ...</td>\n",
       "      <td>0</td>\n",
       "      <td>0</td>\n",
       "      <td>0</td>\n",
       "      <td>1</td>\n",
       "      <td>0</td>\n",
       "      <td>1</td>\n",
       "      <td>1</td>\n",
       "      <td>0</td>\n",
       "      <td>1</td>\n",
       "    </tr>\n",
       "  </tbody>\n",
       "</table>\n",
       "</div>"
      ],
      "text/plain": [
       "         State    District    Year  Season   Crop     Area  Production  \\\n",
       "1  Maharashtra  Ahmednagar  2012.0  Kharif  Maize  45000.0     91900.0   \n",
       "2  Maharashtra  Ahmednagar  2012.0  Kharif   Rice   7500.0      4600.0   \n",
       "3  Maharashtra  Ahmednagar  2012.0  Kharif   Urad   6100.0      1100.0   \n",
       "4  Maharashtra  Ahmednagar  2012.0    Rabi  Maize  14700.0     24800.0   \n",
       "5  Maharashtra  Ahmednagar  2012.0    Rabi  Wheat  38900.0     46100.0   \n",
       "\n",
       "      Yield                                          Soil Type  sandy soil  \\\n",
       "1  2.042222  Black Soil, Red Soil, Alluvial Soil, Laterite ...           0   \n",
       "2  0.613333  Black Soil, Red Soil, Alluvial Soil, Laterite ...           0   \n",
       "3  0.180328  Black Soil, Red Soil, Alluvial Soil, Laterite ...           0   \n",
       "4  1.687075  Black Soil, Red Soil, Alluvial Soil, Laterite ...           0   \n",
       "5  1.185090  Black Soil, Red Soil, Alluvial Soil, Laterite ...           0   \n",
       "\n",
       "   loamy soil  mountain soil  red soil  clayey soil  black soil  \\\n",
       "1           0              0         1            0           1   \n",
       "2           0              0         1            0           1   \n",
       "3           0              0         1            0           1   \n",
       "4           0              0         1            0           1   \n",
       "5           0              0         1            0           1   \n",
       "\n",
       "   laterite soil  forest soil  alluvial soil  \n",
       "1              1            0              1  \n",
       "2              1            0              1  \n",
       "3              1            0              1  \n",
       "4              1            0              1  \n",
       "5              1            0              1  "
      ]
     },
     "execution_count": 62,
     "metadata": {},
     "output_type": "execute_result"
    }
   ],
   "source": [
    "df_merge.head()"
   ]
  },
  {
   "cell_type": "code",
   "execution_count": 63,
   "metadata": {},
   "outputs": [],
   "source": [
    "df_merge = df_merge.drop('Soil Type', axis=1)"
   ]
  },
  {
   "cell_type": "code",
   "execution_count": 64,
   "metadata": {},
   "outputs": [],
   "source": [
    "df_merge.to_csv('Dataset.csv', index=False)"
   ]
  },
  {
   "cell_type": "code",
   "execution_count": 65,
   "metadata": {},
   "outputs": [
    {
     "data": {
      "text/html": [
       "<div>\n",
       "<style scoped>\n",
       "    .dataframe tbody tr th:only-of-type {\n",
       "        vertical-align: middle;\n",
       "    }\n",
       "\n",
       "    .dataframe tbody tr th {\n",
       "        vertical-align: top;\n",
       "    }\n",
       "\n",
       "    .dataframe thead th {\n",
       "        text-align: right;\n",
       "    }\n",
       "</style>\n",
       "<table border=\"1\" class=\"dataframe\">\n",
       "  <thead>\n",
       "    <tr style=\"text-align: right;\">\n",
       "      <th></th>\n",
       "      <th>State</th>\n",
       "      <th>District</th>\n",
       "      <th>Year</th>\n",
       "      <th>Season</th>\n",
       "      <th>Crop</th>\n",
       "      <th>Area</th>\n",
       "      <th>Production</th>\n",
       "      <th>Yield</th>\n",
       "      <th>sandy soil</th>\n",
       "      <th>loamy soil</th>\n",
       "      <th>mountain soil</th>\n",
       "      <th>red soil</th>\n",
       "      <th>clayey soil</th>\n",
       "      <th>black soil</th>\n",
       "      <th>laterite soil</th>\n",
       "      <th>forest soil</th>\n",
       "      <th>alluvial soil</th>\n",
       "    </tr>\n",
       "  </thead>\n",
       "  <tbody>\n",
       "    <tr>\n",
       "      <th>1</th>\n",
       "      <td>Maharashtra</td>\n",
       "      <td>Ahmednagar</td>\n",
       "      <td>2012.0</td>\n",
       "      <td>Kharif</td>\n",
       "      <td>Maize</td>\n",
       "      <td>45000.0</td>\n",
       "      <td>91900.0</td>\n",
       "      <td>2.042222</td>\n",
       "      <td>0</td>\n",
       "      <td>0</td>\n",
       "      <td>0</td>\n",
       "      <td>1</td>\n",
       "      <td>0</td>\n",
       "      <td>1</td>\n",
       "      <td>1</td>\n",
       "      <td>0</td>\n",
       "      <td>1</td>\n",
       "    </tr>\n",
       "    <tr>\n",
       "      <th>2</th>\n",
       "      <td>Maharashtra</td>\n",
       "      <td>Ahmednagar</td>\n",
       "      <td>2012.0</td>\n",
       "      <td>Kharif</td>\n",
       "      <td>Rice</td>\n",
       "      <td>7500.0</td>\n",
       "      <td>4600.0</td>\n",
       "      <td>0.613333</td>\n",
       "      <td>0</td>\n",
       "      <td>0</td>\n",
       "      <td>0</td>\n",
       "      <td>1</td>\n",
       "      <td>0</td>\n",
       "      <td>1</td>\n",
       "      <td>1</td>\n",
       "      <td>0</td>\n",
       "      <td>1</td>\n",
       "    </tr>\n",
       "    <tr>\n",
       "      <th>3</th>\n",
       "      <td>Maharashtra</td>\n",
       "      <td>Ahmednagar</td>\n",
       "      <td>2012.0</td>\n",
       "      <td>Kharif</td>\n",
       "      <td>Urad</td>\n",
       "      <td>6100.0</td>\n",
       "      <td>1100.0</td>\n",
       "      <td>0.180328</td>\n",
       "      <td>0</td>\n",
       "      <td>0</td>\n",
       "      <td>0</td>\n",
       "      <td>1</td>\n",
       "      <td>0</td>\n",
       "      <td>1</td>\n",
       "      <td>1</td>\n",
       "      <td>0</td>\n",
       "      <td>1</td>\n",
       "    </tr>\n",
       "    <tr>\n",
       "      <th>4</th>\n",
       "      <td>Maharashtra</td>\n",
       "      <td>Ahmednagar</td>\n",
       "      <td>2012.0</td>\n",
       "      <td>Rabi</td>\n",
       "      <td>Maize</td>\n",
       "      <td>14700.0</td>\n",
       "      <td>24800.0</td>\n",
       "      <td>1.687075</td>\n",
       "      <td>0</td>\n",
       "      <td>0</td>\n",
       "      <td>0</td>\n",
       "      <td>1</td>\n",
       "      <td>0</td>\n",
       "      <td>1</td>\n",
       "      <td>1</td>\n",
       "      <td>0</td>\n",
       "      <td>1</td>\n",
       "    </tr>\n",
       "    <tr>\n",
       "      <th>5</th>\n",
       "      <td>Maharashtra</td>\n",
       "      <td>Ahmednagar</td>\n",
       "      <td>2012.0</td>\n",
       "      <td>Rabi</td>\n",
       "      <td>Wheat</td>\n",
       "      <td>38900.0</td>\n",
       "      <td>46100.0</td>\n",
       "      <td>1.185090</td>\n",
       "      <td>0</td>\n",
       "      <td>0</td>\n",
       "      <td>0</td>\n",
       "      <td>1</td>\n",
       "      <td>0</td>\n",
       "      <td>1</td>\n",
       "      <td>1</td>\n",
       "      <td>0</td>\n",
       "      <td>1</td>\n",
       "    </tr>\n",
       "  </tbody>\n",
       "</table>\n",
       "</div>"
      ],
      "text/plain": [
       "         State    District    Year  Season   Crop     Area  Production  \\\n",
       "1  Maharashtra  Ahmednagar  2012.0  Kharif  Maize  45000.0     91900.0   \n",
       "2  Maharashtra  Ahmednagar  2012.0  Kharif   Rice   7500.0      4600.0   \n",
       "3  Maharashtra  Ahmednagar  2012.0  Kharif   Urad   6100.0      1100.0   \n",
       "4  Maharashtra  Ahmednagar  2012.0    Rabi  Maize  14700.0     24800.0   \n",
       "5  Maharashtra  Ahmednagar  2012.0    Rabi  Wheat  38900.0     46100.0   \n",
       "\n",
       "      Yield  sandy soil  loamy soil  mountain soil  red soil  clayey soil  \\\n",
       "1  2.042222           0           0              0         1            0   \n",
       "2  0.613333           0           0              0         1            0   \n",
       "3  0.180328           0           0              0         1            0   \n",
       "4  1.687075           0           0              0         1            0   \n",
       "5  1.185090           0           0              0         1            0   \n",
       "\n",
       "   black soil  laterite soil  forest soil  alluvial soil  \n",
       "1           1              1            0              1  \n",
       "2           1              1            0              1  \n",
       "3           1              1            0              1  \n",
       "4           1              1            0              1  \n",
       "5           1              1            0              1  "
      ]
     },
     "execution_count": 65,
     "metadata": {},
     "output_type": "execute_result"
    }
   ],
   "source": [
    "df_merge.head()"
   ]
  },
  {
   "cell_type": "code",
   "execution_count": 66,
   "metadata": {},
   "outputs": [
    {
     "data": {
      "text/html": [
       "<div>\n",
       "<style scoped>\n",
       "    .dataframe tbody tr th:only-of-type {\n",
       "        vertical-align: middle;\n",
       "    }\n",
       "\n",
       "    .dataframe tbody tr th {\n",
       "        vertical-align: top;\n",
       "    }\n",
       "\n",
       "    .dataframe thead th {\n",
       "        text-align: right;\n",
       "    }\n",
       "</style>\n",
       "<table border=\"1\" class=\"dataframe\">\n",
       "  <thead>\n",
       "    <tr style=\"text-align: right;\">\n",
       "      <th></th>\n",
       "      <th>State</th>\n",
       "      <th>District</th>\n",
       "      <th>Year</th>\n",
       "      <th>January</th>\n",
       "      <th>February</th>\n",
       "      <th>March</th>\n",
       "      <th>April</th>\n",
       "      <th>May</th>\n",
       "      <th>June</th>\n",
       "      <th>July</th>\n",
       "      <th>August</th>\n",
       "      <th>September</th>\n",
       "      <th>October</th>\n",
       "      <th>November</th>\n",
       "      <th>December</th>\n",
       "      <th>Annual</th>\n",
       "    </tr>\n",
       "  </thead>\n",
       "  <tbody>\n",
       "    <tr>\n",
       "      <th>0</th>\n",
       "      <td>Maharashtra</td>\n",
       "      <td>Ahmednagar</td>\n",
       "      <td>2012</td>\n",
       "      <td>0.0</td>\n",
       "      <td>0.0</td>\n",
       "      <td>0.0</td>\n",
       "      <td>3.5</td>\n",
       "      <td>10.3</td>\n",
       "      <td>40.0</td>\n",
       "      <td>86.0</td>\n",
       "      <td>63.6</td>\n",
       "      <td>90.8</td>\n",
       "      <td>99.2</td>\n",
       "      <td>0.7</td>\n",
       "      <td>0.0</td>\n",
       "      <td>394.1</td>\n",
       "    </tr>\n",
       "    <tr>\n",
       "      <th>1</th>\n",
       "      <td>Maharashtra</td>\n",
       "      <td>Ahmednagar</td>\n",
       "      <td>2013</td>\n",
       "      <td>0.0</td>\n",
       "      <td>1.0</td>\n",
       "      <td>0.0</td>\n",
       "      <td>0.0</td>\n",
       "      <td>0.0</td>\n",
       "      <td>142.1</td>\n",
       "      <td>144.1</td>\n",
       "      <td>56.0</td>\n",
       "      <td>182.5</td>\n",
       "      <td>75.5</td>\n",
       "      <td>0.0</td>\n",
       "      <td>0.0</td>\n",
       "      <td>601.2</td>\n",
       "    </tr>\n",
       "    <tr>\n",
       "      <th>2</th>\n",
       "      <td>Maharashtra</td>\n",
       "      <td>Ahmednagar</td>\n",
       "      <td>2014</td>\n",
       "      <td>0.1</td>\n",
       "      <td>1.7</td>\n",
       "      <td>32.7</td>\n",
       "      <td>0.1</td>\n",
       "      <td>14.6</td>\n",
       "      <td>21.0</td>\n",
       "      <td>92.9</td>\n",
       "      <td>198.7</td>\n",
       "      <td>44.6</td>\n",
       "      <td>27.6</td>\n",
       "      <td>63.1</td>\n",
       "      <td>3.4</td>\n",
       "      <td>500.5</td>\n",
       "    </tr>\n",
       "    <tr>\n",
       "      <th>3</th>\n",
       "      <td>Maharashtra</td>\n",
       "      <td>Beed</td>\n",
       "      <td>2012</td>\n",
       "      <td>0.0</td>\n",
       "      <td>0.0</td>\n",
       "      <td>0.0</td>\n",
       "      <td>0.0</td>\n",
       "      <td>0.0</td>\n",
       "      <td>55.4</td>\n",
       "      <td>107.4</td>\n",
       "      <td>81.6</td>\n",
       "      <td>105.0</td>\n",
       "      <td>81.3</td>\n",
       "      <td>0.9</td>\n",
       "      <td>0.0</td>\n",
       "      <td>431.6</td>\n",
       "    </tr>\n",
       "    <tr>\n",
       "      <th>4</th>\n",
       "      <td>Maharashtra</td>\n",
       "      <td>Beed</td>\n",
       "      <td>2013</td>\n",
       "      <td>0.0</td>\n",
       "      <td>0.0</td>\n",
       "      <td>1.2</td>\n",
       "      <td>4.6</td>\n",
       "      <td>2.2</td>\n",
       "      <td>127.6</td>\n",
       "      <td>205.0</td>\n",
       "      <td>92.3</td>\n",
       "      <td>152.8</td>\n",
       "      <td>76.9</td>\n",
       "      <td>3.0</td>\n",
       "      <td>24.9</td>\n",
       "      <td>690.5</td>\n",
       "    </tr>\n",
       "    <tr>\n",
       "      <th>...</th>\n",
       "      <td>...</td>\n",
       "      <td>...</td>\n",
       "      <td>...</td>\n",
       "      <td>...</td>\n",
       "      <td>...</td>\n",
       "      <td>...</td>\n",
       "      <td>...</td>\n",
       "      <td>...</td>\n",
       "      <td>...</td>\n",
       "      <td>...</td>\n",
       "      <td>...</td>\n",
       "      <td>...</td>\n",
       "      <td>...</td>\n",
       "      <td>...</td>\n",
       "      <td>...</td>\n",
       "      <td>...</td>\n",
       "    </tr>\n",
       "    <tr>\n",
       "      <th>175</th>\n",
       "      <td>West Bengal</td>\n",
       "      <td>Nadia</td>\n",
       "      <td>2013</td>\n",
       "      <td>6.3</td>\n",
       "      <td>9.1</td>\n",
       "      <td>1.5</td>\n",
       "      <td>39.3</td>\n",
       "      <td>149.7</td>\n",
       "      <td>188.1</td>\n",
       "      <td>181.1</td>\n",
       "      <td>327.0</td>\n",
       "      <td>160.7</td>\n",
       "      <td>224.8</td>\n",
       "      <td>0.0</td>\n",
       "      <td>0.2</td>\n",
       "      <td>1287.8</td>\n",
       "    </tr>\n",
       "    <tr>\n",
       "      <th>176</th>\n",
       "      <td>West Bengal</td>\n",
       "      <td>Nadia</td>\n",
       "      <td>2014</td>\n",
       "      <td>0.8</td>\n",
       "      <td>50.2</td>\n",
       "      <td>17.1</td>\n",
       "      <td>0.0</td>\n",
       "      <td>92.0</td>\n",
       "      <td>221.4</td>\n",
       "      <td>203.1</td>\n",
       "      <td>236.7</td>\n",
       "      <td>218.8</td>\n",
       "      <td>56.7</td>\n",
       "      <td>0.0</td>\n",
       "      <td>0.0</td>\n",
       "      <td>1096.8</td>\n",
       "    </tr>\n",
       "    <tr>\n",
       "      <th>177</th>\n",
       "      <td>West Bengal</td>\n",
       "      <td>Purulia</td>\n",
       "      <td>2012</td>\n",
       "      <td>38.2</td>\n",
       "      <td>25.7</td>\n",
       "      <td>6.3</td>\n",
       "      <td>75.0</td>\n",
       "      <td>37.6</td>\n",
       "      <td>145.9</td>\n",
       "      <td>329.0</td>\n",
       "      <td>316.9</td>\n",
       "      <td>319.0</td>\n",
       "      <td>38.1</td>\n",
       "      <td>52.3</td>\n",
       "      <td>16.9</td>\n",
       "      <td>1400.9</td>\n",
       "    </tr>\n",
       "    <tr>\n",
       "      <th>178</th>\n",
       "      <td>West Bengal</td>\n",
       "      <td>Purulia</td>\n",
       "      <td>2013</td>\n",
       "      <td>0.7</td>\n",
       "      <td>13.8</td>\n",
       "      <td>6.7</td>\n",
       "      <td>47.1</td>\n",
       "      <td>294.1</td>\n",
       "      <td>200.9</td>\n",
       "      <td>246.6</td>\n",
       "      <td>302.8</td>\n",
       "      <td>233.8</td>\n",
       "      <td>434.6</td>\n",
       "      <td>0.0</td>\n",
       "      <td>0.0</td>\n",
       "      <td>1781.1</td>\n",
       "    </tr>\n",
       "    <tr>\n",
       "      <th>179</th>\n",
       "      <td>West Bengal</td>\n",
       "      <td>Purulia</td>\n",
       "      <td>2014</td>\n",
       "      <td>1.4</td>\n",
       "      <td>34.1</td>\n",
       "      <td>25.5</td>\n",
       "      <td>2.3</td>\n",
       "      <td>88.2</td>\n",
       "      <td>146.1</td>\n",
       "      <td>266.9</td>\n",
       "      <td>215.5</td>\n",
       "      <td>188.4</td>\n",
       "      <td>58.3</td>\n",
       "      <td>0.0</td>\n",
       "      <td>0.0</td>\n",
       "      <td>1026.7</td>\n",
       "    </tr>\n",
       "  </tbody>\n",
       "</table>\n",
       "<p>180 rows × 16 columns</p>\n",
       "</div>"
      ],
      "text/plain": [
       "           State    District  Year  January  February  March  April    May  \\\n",
       "0    Maharashtra  Ahmednagar  2012      0.0       0.0    0.0    3.5   10.3   \n",
       "1    Maharashtra  Ahmednagar  2013      0.0       1.0    0.0    0.0    0.0   \n",
       "2    Maharashtra  Ahmednagar  2014      0.1       1.7   32.7    0.1   14.6   \n",
       "3    Maharashtra        Beed  2012      0.0       0.0    0.0    0.0    0.0   \n",
       "4    Maharashtra        Beed  2013      0.0       0.0    1.2    4.6    2.2   \n",
       "..           ...         ...   ...      ...       ...    ...    ...    ...   \n",
       "175  West Bengal       Nadia  2013      6.3       9.1    1.5   39.3  149.7   \n",
       "176  West Bengal       Nadia  2014      0.8      50.2   17.1    0.0   92.0   \n",
       "177  West Bengal     Purulia  2012     38.2      25.7    6.3   75.0   37.6   \n",
       "178  West Bengal     Purulia  2013      0.7      13.8    6.7   47.1  294.1   \n",
       "179  West Bengal     Purulia  2014      1.4      34.1   25.5    2.3   88.2   \n",
       "\n",
       "      June   July  August  September  October  November  December  Annual  \n",
       "0     40.0   86.0    63.6       90.8     99.2       0.7       0.0   394.1  \n",
       "1    142.1  144.1    56.0      182.5     75.5       0.0       0.0   601.2  \n",
       "2     21.0   92.9   198.7       44.6     27.6      63.1       3.4   500.5  \n",
       "3     55.4  107.4    81.6      105.0     81.3       0.9       0.0   431.6  \n",
       "4    127.6  205.0    92.3      152.8     76.9       3.0      24.9   690.5  \n",
       "..     ...    ...     ...        ...      ...       ...       ...     ...  \n",
       "175  188.1  181.1   327.0      160.7    224.8       0.0       0.2  1287.8  \n",
       "176  221.4  203.1   236.7      218.8     56.7       0.0       0.0  1096.8  \n",
       "177  145.9  329.0   316.9      319.0     38.1      52.3      16.9  1400.9  \n",
       "178  200.9  246.6   302.8      233.8    434.6       0.0       0.0  1781.1  \n",
       "179  146.1  266.9   215.5      188.4     58.3       0.0       0.0  1026.7  \n",
       "\n",
       "[180 rows x 16 columns]"
      ]
     },
     "execution_count": 66,
     "metadata": {},
     "output_type": "execute_result"
    }
   ],
   "source": [
    "df_rain.Year.unique()\n",
    "\n",
    "df_rain['Year'] = df_rain['Year'].astype(int)\n",
    "\n",
    "df_rain"
   ]
  },
  {
   "cell_type": "markdown",
   "metadata": {},
   "source": [
    "## Exploratory Data Analysis"
   ]
  },
  {
   "cell_type": "code",
   "execution_count": 67,
   "metadata": {},
   "outputs": [
    {
     "data": {
      "text/plain": [
       "array([2012, 2013, 2014])"
      ]
     },
     "execution_count": 67,
     "metadata": {},
     "output_type": "execute_result"
    }
   ],
   "source": [
    "df_rain.Year.unique()"
   ]
  },
  {
   "cell_type": "code",
   "execution_count": 68,
   "metadata": {},
   "outputs": [
    {
     "data": {
      "image/png": "[encoded data removed]",
      "text/plain": [
       "<Figure size 1600x800 with 1 Axes>"
      ]
     },
     "metadata": {},
     "output_type": "display_data"
    }
   ],
   "source": [
    "plt.figure(figsize=(16,8))\n",
    "sns.set_style('darkgrid')\n",
    "sns.lineplot(x='Year', y='Annual', data=df_rain)\n",
    "plt.xticks((df_rain.Year.unique()))\n",
    "plt.title('Rainfall')\n",
    "plt.xlabel('Year')\n",
    "plt.ylabel('Rainfall (mm)')\n",
    "plt.show()"
   ]
  },
  {
   "cell_type": "code",
   "execution_count": 69,
   "metadata": {},
   "outputs": [
    {
     "name": "stdout",
     "output_type": "stream",
     "text": [
      "<class 'pandas.core.frame.DataFrame'>\n",
      "Index: 1004 entries, 1 to 1004\n",
      "Data columns (total 17 columns):\n",
      " #   Column         Non-Null Count  Dtype  \n",
      "---  ------         --------------  -----  \n",
      " 0   State          1004 non-null   object \n",
      " 1   District       1004 non-null   object \n",
      " 2   Year           1004 non-null   float64\n",
      " 3   Season         1004 non-null   object \n",
      " 4   Crop           1004 non-null   object \n",
      " 5   Area           1004 non-null   float64\n",
      " 6   Production     1004 non-null   float64\n",
      " 7   Yield          1004 non-null   float64\n",
      " 8   sandy soil     1004 non-null   int32  \n",
      " 9   loamy soil     1004 non-null   int32  \n",
      " 10  mountain soil  1004 non-null   int32  \n",
      " 11  red soil       1004 non-null   int32  \n",
      " 12  clayey soil    1004 non-null   int32  \n",
      " 13  black soil     1004 non-null   int32  \n",
      " 14  laterite soil  1004 non-null   int32  \n",
      " 15  forest soil    1004 non-null   int32  \n",
      " 16  alluvial soil  1004 non-null   int32  \n",
      "dtypes: float64(4), int32(9), object(4)\n",
      "memory usage: 105.9+ KB\n"
     ]
    }
   ],
   "source": [
    "df_merge.info()"
   ]
  },
  {
   "cell_type": "code",
   "execution_count": 70,
   "metadata": {},
   "outputs": [
    {
     "data": {
      "text/plain": [
       "(1004, 17)"
      ]
     },
     "execution_count": 70,
     "metadata": {},
     "output_type": "execute_result"
    }
   ],
   "source": [
    "df_merge.shape"
   ]
  },
  {
   "cell_type": "code",
   "execution_count": null,
   "metadata": {},
   "outputs": [],
   "source": []
  }
 ],
 "metadata": {
  "kernelspec": {
   "display_name": "Python 3",
   "language": "python",
   "name": "python3"
  },
  "language_info": {
   "codemirror_mode": {
    "name": "ipython",
    "version": 3
   },
   "file_extension": ".py",
   "mimetype": "text/x-python",
   "name": "python",
   "nbconvert_exporter": "python",
   "pygments_lexer": "ipython3",
   "version": "3.11.7"
  }
 },
 "nbformat": 4,
 "nbformat_minor": 2
}
